{
 "cells": [
  {
   "cell_type": "code",
   "execution_count": 5,
   "id": "de2e5d44",
   "metadata": {},
   "outputs": [
    {
     "name": "stderr",
     "output_type": "stream",
     "text": [
      "Cloning into 'darknet'...\n"
     ]
    }
   ],
   "source": [
    "!git clone https://github.com/pjreddie/darknet.git"
   ]
  },
  {
   "cell_type": "code",
   "execution_count": 9,
   "id": "3091152a",
   "metadata": {},
   "outputs": [
    {
     "name": "stdout",
     "output_type": "stream",
     "text": [
      "C:\\Users\\praty\\yolo_custom_detection\\darknet\n"
     ]
    }
   ],
   "source": [
    "%cd \"C:\\Users\\praty\\yolo_custom_detection\\darknet\""
   ]
  },
  {
   "cell_type": "code",
   "execution_count": 12,
   "id": "b6124fd0",
   "metadata": {},
   "outputs": [
    {
     "name": "stdout",
     "output_type": "stream",
     "text": [
      " Volume in drive C is OS\n",
      " Volume Serial Number is 38F9-CA42\n",
      "\n",
      " Directory of C:\\Users\\praty\\yolo_custom_detection\\darknet\n",
      "\n",
      "11-08-2023  11:43    <DIR>          .\n",
      "11-08-2023  11:46    <DIR>          ..\n",
      "11-08-2023  11:43               227 .gitignore\n",
      "11-08-2023  11:43    <DIR>          cfg\n",
      "11-08-2023  11:43    <DIR>          data\n",
      "11-08-2023  11:43    <DIR>          examples\n",
      "11-08-2023  11:43    <DIR>          include\n",
      "11-08-2023  11:43               527 LICENSE\n",
      "11-08-2023  11:43               487 LICENSE.fuck\n",
      "11-08-2023  11:43             6,743 LICENSE.gen\n",
      "11-08-2023  11:43            35,815 LICENSE.gpl\n",
      "11-08-2023  11:43               368 LICENSE.meta\n",
      "11-08-2023  11:43             1,093 LICENSE.mit\n",
      "11-08-2023  11:43               474 LICENSE.v1\n",
      "11-08-2023  11:43             3,145 Makefile\n",
      "11-08-2023  11:43    <DIR>          python\n",
      "11-08-2023  11:43             5,196 README.md\n",
      "11-08-2023  11:43    <DIR>          scripts\n",
      "11-08-2023  11:43    <DIR>          src\n",
      "              10 File(s)         54,075 bytes\n",
      "               9 Dir(s)  70,751,158,272 bytes free\n"
     ]
    }
   ],
   "source": [
    "ls"
   ]
  },
  {
   "cell_type": "code",
   "execution_count": 18,
   "id": "c74fdbf8",
   "metadata": {},
   "outputs": [
    {
     "name": "stdout",
     "output_type": "stream",
     "text": [
      "Collecting make\n",
      "  Downloading make-0.1.6.post2-py3-none-any.whl (14 kB)\n",
      "Collecting jinja2-time\n",
      "  Using cached jinja2_time-0.2.0-py2.py3-none-any.whl (6.4 kB)\n",
      "Requirement already satisfied: Jinja2 in c:\\users\\praty\\anaconda3\\lib\\site-packages (from make) (3.1.2)\n",
      "Requirement already satisfied: MarkupSafe>=2.0 in c:\\users\\praty\\anaconda3\\lib\\site-packages (from Jinja2->make) (2.1.1)\n",
      "Collecting arrow\n",
      "  Downloading arrow-1.2.3-py3-none-any.whl (66 kB)\n",
      "     -------------------------------------- 66.4/66.4 kB 515.1 kB/s eta 0:00:00\n",
      "Requirement already satisfied: python-dateutil>=2.7.0 in c:\\users\\praty\\anaconda3\\lib\\site-packages (from arrow->jinja2-time->make) (2.8.2)\n",
      "Requirement already satisfied: six>=1.5 in c:\\users\\praty\\anaconda3\\lib\\site-packages (from python-dateutil>=2.7.0->arrow->jinja2-time->make) (1.16.0)\n",
      "Installing collected packages: arrow, jinja2-time, make\n",
      "Successfully installed arrow-1.2.3 jinja2-time-0.2.0 make-0.1.6.post2\n"
     ]
    }
   ],
   "source": [
    "!pip install make"
   ]
  },
  {
   "cell_type": "code",
   "execution_count": 19,
   "id": "014c0550",
   "metadata": {},
   "outputs": [
    {
     "name": "stderr",
     "output_type": "stream",
     "text": [
      "'make' is not recognized as an internal or external command,\n",
      "operable program or batch file.\n"
     ]
    }
   ],
   "source": [
    "!make"
   ]
  },
  {
   "cell_type": "code",
   "execution_count": 20,
   "id": "cd693a64",
   "metadata": {},
   "outputs": [
    {
     "name": "stdout",
     "output_type": "stream",
     "text": [
      "C:\\Users\\praty\\yolo_custom_detection\n"
     ]
    }
   ],
   "source": [
    "%cd \"C:\\Users\\praty\\yolo_custom_detection\""
   ]
  },
  {
   "cell_type": "code",
   "execution_count": 21,
   "id": "07516781",
   "metadata": {},
   "outputs": [],
   "source": [
    "!python flipkart_grid/creating-files-data-and-name.py"
   ]
  },
  {
   "cell_type": "code",
   "execution_count": 23,
   "id": "d7674fd9",
   "metadata": {},
   "outputs": [],
   "source": [
    "!python flipkart_grid/creating-train-and-test-txt-files.py"
   ]
  },
  {
   "cell_type": "code",
   "execution_count": 29,
   "id": "2e261c16",
   "metadata": {},
   "outputs": [
    {
     "ename": "SyntaxError",
     "evalue": "invalid syntax (1959621657.py, line 1)",
     "output_type": "error",
     "traceback": [
      "\u001b[1;36m  Input \u001b[1;32mIn [29]\u001b[1;36m\u001b[0m\n\u001b[1;33m    darknet/darknet detector train flipkart_grid/labelled_data.data darknet/cfg/yolov3.cfg custom_weights/darknet53.conv.74 -dont_show\u001b[0m\n\u001b[1;37m                    ^\u001b[0m\n\u001b[1;31mSyntaxError\u001b[0m\u001b[1;31m:\u001b[0m invalid syntax\n"
     ]
    }
   ],
   "source": [
    "darknet/darknet detector train flipkart_grid/labelled_data.data darknet/cfg/yolov3.cfg custom_weights/darknet53.conv.74 -dont_show"
   ]
  },
  {
   "cell_type": "code",
   "execution_count": null,
   "id": "fa14dec0",
   "metadata": {},
   "outputs": [],
   "source": []
  },
  {
   "cell_type": "code",
   "execution_count": null,
   "id": "441c4431",
   "metadata": {},
   "outputs": [],
   "source": []
  }
 ],
 "metadata": {
  "kernelspec": {
   "display_name": "base",
   "language": "python",
   "name": "base"
  },
  "language_info": {
   "codemirror_mode": {
    "name": "ipython",
    "version": 3
   },
   "file_extension": ".py",
   "mimetype": "text/x-python",
   "name": "python",
   "nbconvert_exporter": "python",
   "pygments_lexer": "ipython3",
   "version": "3.10.9"
  }
 },
 "nbformat": 4,
 "nbformat_minor": 5
}
